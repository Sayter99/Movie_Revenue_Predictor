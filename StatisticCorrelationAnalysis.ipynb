{
 "cells": [
  {
   "cell_type": "code",
   "execution_count": 1,
   "metadata": {},
   "outputs": [],
   "source": [
    "import pandas as pd\n",
    "import numpy as np\n",
    "import matplotlib.pyplot as plt\n",
    "from scipy import stats"
   ]
  },
  {
   "cell_type": "code",
   "execution_count": 2,
   "metadata": {},
   "outputs": [],
   "source": [
    "## data loading\n",
    "data = pd.read_csv(\"/home/gray/Downloads/integrated.csv\")"
   ]
  },
  {
   "cell_type": "code",
   "execution_count": 37,
   "metadata": {
    "scrolled": false
   },
   "outputs": [
    {
     "data": {
      "text/html": [
       "<div>\n",
       "<style scoped>\n",
       "    .dataframe tbody tr th:only-of-type {\n",
       "        vertical-align: middle;\n",
       "    }\n",
       "\n",
       "    .dataframe tbody tr th {\n",
       "        vertical-align: top;\n",
       "    }\n",
       "\n",
       "    .dataframe thead th {\n",
       "        text-align: right;\n",
       "    }\n",
       "</style>\n",
       "<table border=\"1\" class=\"dataframe\">\n",
       "  <thead>\n",
       "    <tr style=\"text-align: right;\">\n",
       "      <th></th>\n",
       "      <th>Unnamed: 0</th>\n",
       "      <th>Unnamed: 0.1</th>\n",
       "      <th>Unnamed: 0.1.1</th>\n",
       "      <th>budget</th>\n",
       "      <th>genres</th>\n",
       "      <th>homepage</th>\n",
       "      <th>id</th>\n",
       "      <th>keywords</th>\n",
       "      <th>original_language</th>\n",
       "      <th>original_title</th>\n",
       "      <th>...</th>\n",
       "      <th>actor1_hashtags</th>\n",
       "      <th>actor2_hashtags</th>\n",
       "      <th>actor3_hashtags</th>\n",
       "      <th>director_hashtags</th>\n",
       "      <th>movie_hashtags</th>\n",
       "      <th>IMDB_ID</th>\n",
       "      <th>genres.1</th>\n",
       "      <th>production_companies.1</th>\n",
       "      <th>budgets</th>\n",
       "      <th>gross_usa</th>\n",
       "    </tr>\n",
       "  </thead>\n",
       "  <tbody>\n",
       "    <tr>\n",
       "      <th>0</th>\n",
       "      <td>0</td>\n",
       "      <td>0</td>\n",
       "      <td>0</td>\n",
       "      <td>237000000</td>\n",
       "      <td>[{\"id\": 28, \"name\": \"Action\"}, {\"id\": 12, \"nam...</td>\n",
       "      <td>http://www.avatarmovie.com/</td>\n",
       "      <td>19995</td>\n",
       "      <td>[{\"id\": 1463, \"name\": \"culture clash\"}, {\"id\":...</td>\n",
       "      <td>en</td>\n",
       "      <td>Avatar</td>\n",
       "      <td>...</td>\n",
       "      <td>16431</td>\n",
       "      <td>141212</td>\n",
       "      <td>82306</td>\n",
       "      <td>107952</td>\n",
       "      <td>1744076</td>\n",
       "      <td>tt0499549</td>\n",
       "      <td>[{'name': 'Action'}, {'name': 'Adventure'}, {'...</td>\n",
       "      <td>[{'name': 'Twentieth Century Fox'}, {'name': '...</td>\n",
       "      <td>237000000</td>\n",
       "      <td>749700000</td>\n",
       "    </tr>\n",
       "    <tr>\n",
       "      <th>1</th>\n",
       "      <td>1</td>\n",
       "      <td>1</td>\n",
       "      <td>1</td>\n",
       "      <td>300000000</td>\n",
       "      <td>[{\"id\": 12, \"name\": \"Adventure\"}, {\"id\": 14, \"...</td>\n",
       "      <td>http://disney.go.com/disneypictures/pirates/</td>\n",
       "      <td>285</td>\n",
       "      <td>[{\"id\": 270, \"name\": \"ocean\"}, {\"id\": 726, \"na...</td>\n",
       "      <td>en</td>\n",
       "      <td>Pirates of the Caribbean: At World's End</td>\n",
       "      <td>...</td>\n",
       "      <td>1946081</td>\n",
       "      <td>239740</td>\n",
       "      <td>164826</td>\n",
       "      <td>5386</td>\n",
       "      <td>1600</td>\n",
       "      <td>tt0449088</td>\n",
       "      <td>[{'name': 'Action'}, {'name': 'Adventure'}, {'...</td>\n",
       "      <td>[{'name': 'Walt Disney Pictures'}, {'name': 'J...</td>\n",
       "      <td>300000000</td>\n",
       "      <td>309404152</td>\n",
       "    </tr>\n",
       "    <tr>\n",
       "      <th>2</th>\n",
       "      <td>2</td>\n",
       "      <td>2</td>\n",
       "      <td>2</td>\n",
       "      <td>245000000</td>\n",
       "      <td>[{\"id\": 28, \"name\": \"Action\"}, {\"id\": 12, \"nam...</td>\n",
       "      <td>http://www.sonypictures.com/movies/spectre/</td>\n",
       "      <td>206647</td>\n",
       "      <td>[{\"id\": 470, \"name\": \"spy\"}, {\"id\": 818, \"name...</td>\n",
       "      <td>en</td>\n",
       "      <td>Spectre</td>\n",
       "      <td>...</td>\n",
       "      <td>179939</td>\n",
       "      <td>45185</td>\n",
       "      <td>28352</td>\n",
       "      <td>18433</td>\n",
       "      <td>386542</td>\n",
       "      <td>tt2379713</td>\n",
       "      <td>[{'name': 'Action'}, {'name': 'Adventure'}, {'...</td>\n",
       "      <td>[{'name': 'B24'}, {'name': 'Columbia Pictures ...</td>\n",
       "      <td>245000000</td>\n",
       "      <td>208777731</td>\n",
       "    </tr>\n",
       "  </tbody>\n",
       "</table>\n",
       "<p>3 rows × 37 columns</p>\n",
       "</div>"
      ],
      "text/plain": [
       "   Unnamed: 0  Unnamed: 0.1  Unnamed: 0.1.1     budget  \\\n",
       "0           0             0               0  237000000   \n",
       "1           1             1               1  300000000   \n",
       "2           2             2               2  245000000   \n",
       "\n",
       "                                              genres  \\\n",
       "0  [{\"id\": 28, \"name\": \"Action\"}, {\"id\": 12, \"nam...   \n",
       "1  [{\"id\": 12, \"name\": \"Adventure\"}, {\"id\": 14, \"...   \n",
       "2  [{\"id\": 28, \"name\": \"Action\"}, {\"id\": 12, \"nam...   \n",
       "\n",
       "                                       homepage      id  \\\n",
       "0                   http://www.avatarmovie.com/   19995   \n",
       "1  http://disney.go.com/disneypictures/pirates/     285   \n",
       "2   http://www.sonypictures.com/movies/spectre/  206647   \n",
       "\n",
       "                                            keywords original_language  \\\n",
       "0  [{\"id\": 1463, \"name\": \"culture clash\"}, {\"id\":...                en   \n",
       "1  [{\"id\": 270, \"name\": \"ocean\"}, {\"id\": 726, \"na...                en   \n",
       "2  [{\"id\": 470, \"name\": \"spy\"}, {\"id\": 818, \"name...                en   \n",
       "\n",
       "                             original_title    ...     actor1_hashtags  \\\n",
       "0                                    Avatar    ...               16431   \n",
       "1  Pirates of the Caribbean: At World's End    ...             1946081   \n",
       "2                                   Spectre    ...              179939   \n",
       "\n",
       "   actor2_hashtags actor3_hashtags director_hashtags movie_hashtags  \\\n",
       "0           141212           82306            107952        1744076   \n",
       "1           239740          164826              5386           1600   \n",
       "2            45185           28352             18433         386542   \n",
       "\n",
       "     IMDB_ID                                           genres.1  \\\n",
       "0  tt0499549  [{'name': 'Action'}, {'name': 'Adventure'}, {'...   \n",
       "1  tt0449088  [{'name': 'Action'}, {'name': 'Adventure'}, {'...   \n",
       "2  tt2379713  [{'name': 'Action'}, {'name': 'Adventure'}, {'...   \n",
       "\n",
       "                              production_companies.1    budgets  gross_usa  \n",
       "0  [{'name': 'Twentieth Century Fox'}, {'name': '...  237000000  749700000  \n",
       "1  [{'name': 'Walt Disney Pictures'}, {'name': 'J...  300000000  309404152  \n",
       "2  [{'name': 'B24'}, {'name': 'Columbia Pictures ...  245000000  208777731  \n",
       "\n",
       "[3 rows x 37 columns]"
      ]
     },
     "execution_count": 37,
     "metadata": {},
     "output_type": "execute_result"
    }
   ],
   "source": [
    "data.head(3)\n",
    "# data.info()"
   ]
  },
  {
   "cell_type": "code",
   "execution_count": 66,
   "metadata": {},
   "outputs": [
    {
     "name": "stdout",
     "output_type": "stream",
     "text": [
      "4803\n",
      "3743\n",
      "3602\n"
     ]
    }
   ],
   "source": [
    "def filter_operation_1(data, threshold_gross_usa, threshold_budges, threshold_ratio):\n",
    "    '''\n",
    "    1st operation:\n",
    "    Filter the data to eleminate the string and the data which are lower than thresholds.\n",
    "    '''\n",
    "    filter_data_1 = data\n",
    "    filter_data_1['budgets'] = pd.to_numeric(filter_data_1['budgets'], errors='coerce')\n",
    "    filter_data_1['gross_usa'] = pd.to_numeric(filter_data_1['gross_usa'], errors='coerce')\n",
    "    print(len(filter_data_1))\n",
    "    filter_data_1 = filter_data_1.dropna(subset=['budgets'])\n",
    "    filter_data_1 = filter_data_1.dropna(subset=['gross_usa'])\n",
    "    print(len(filter_data_1))\n",
    "    filter_data_1 = filter_data_1[(filter_data_1['budgets'] >= threshold_budges) & \n",
    "                                  (filter_data_1['gross_usa'] >= threshold_gross_usa) & \n",
    "                                  (filter_data_1['gross_usa'] / filter_data_1['budgets'] <= threshold_ratio[1]) & \n",
    "                                  (filter_data_1['gross_usa'] / filter_data_1['budgets'] >= threshold_ratio[0])]\n",
    "    print(len(filter_data_1))\n",
    "    \n",
    "    return filter_data_1\n",
    "\n",
    "threshold_gross_usa = 1000\n",
    "threshold_budges = 1000\n",
    "threshold_ratio = [1e-3, 1e6]\n",
    "filter_data_1 = filter_operation_1(data.copy(), threshold_gross_usa, threshold_budges, threshold_ratio)"
   ]
  },
  {
   "cell_type": "code",
   "execution_count": 64,
   "metadata": {
    "scrolled": false
   },
   "outputs": [
    {
     "data": {
      "text/html": [
       "<div>\n",
       "<style scoped>\n",
       "    .dataframe tbody tr th:only-of-type {\n",
       "        vertical-align: middle;\n",
       "    }\n",
       "\n",
       "    .dataframe tbody tr th {\n",
       "        vertical-align: top;\n",
       "    }\n",
       "\n",
       "    .dataframe thead th {\n",
       "        text-align: right;\n",
       "    }\n",
       "</style>\n",
       "<table border=\"1\" class=\"dataframe\">\n",
       "  <thead>\n",
       "    <tr style=\"text-align: right;\">\n",
       "      <th></th>\n",
       "      <th>Unnamed: 0</th>\n",
       "      <th>Unnamed: 0.1</th>\n",
       "      <th>Unnamed: 0.1.1</th>\n",
       "      <th>budget</th>\n",
       "      <th>genres</th>\n",
       "      <th>homepage</th>\n",
       "      <th>id</th>\n",
       "      <th>keywords</th>\n",
       "      <th>original_language</th>\n",
       "      <th>original_title</th>\n",
       "      <th>...</th>\n",
       "      <th>actor1_hashtags</th>\n",
       "      <th>actor2_hashtags</th>\n",
       "      <th>actor3_hashtags</th>\n",
       "      <th>director_hashtags</th>\n",
       "      <th>movie_hashtags</th>\n",
       "      <th>IMDB_ID</th>\n",
       "      <th>genres.1</th>\n",
       "      <th>production_companies.1</th>\n",
       "      <th>budgets</th>\n",
       "      <th>gross_usa</th>\n",
       "    </tr>\n",
       "  </thead>\n",
       "  <tbody>\n",
       "  </tbody>\n",
       "</table>\n",
       "<p>0 rows × 37 columns</p>\n",
       "</div>"
      ],
      "text/plain": [
       "Empty DataFrame\n",
       "Columns: [Unnamed: 0, Unnamed: 0.1, Unnamed: 0.1.1, budget, genres, homepage, id, keywords, original_language, original_title, overview, popularity, production_companies, production_countries, release_date, revenue, runtime, spoken_languages, status, tagline, title_x, vote_average, vote_count, movie_id, title_y, cast, crew, actor1_hashtags, actor2_hashtags, actor3_hashtags, director_hashtags, movie_hashtags, IMDB_ID, genres.1, production_companies.1, budgets, gross_usa]\n",
       "Index: []\n",
       "\n",
       "[0 rows x 37 columns]"
      ]
     },
     "execution_count": 64,
     "metadata": {},
     "output_type": "execute_result"
    }
   ],
   "source": [
    "filter_data_1.head(3)\n",
    "filter_data_1[filter_data_1['budgets'] / filter_data_1['budgets'] < 0]"
   ]
  },
  {
   "cell_type": "code",
   "execution_count": 59,
   "metadata": {},
   "outputs": [
    {
     "name": "stdout",
     "output_type": "stream",
     "text": [
      "<class 'pandas.core.frame.DataFrame'>\n",
      "RangeIndex: 4803 entries, 0 to 4802\n",
      "Data columns (total 37 columns):\n",
      "Unnamed: 0                4803 non-null int64\n",
      "Unnamed: 0.1              4803 non-null int64\n",
      "Unnamed: 0.1.1            4803 non-null int64\n",
      "budget                    4803 non-null int64\n",
      "genres                    4803 non-null object\n",
      "homepage                  1712 non-null object\n",
      "id                        4803 non-null int64\n",
      "keywords                  4803 non-null object\n",
      "original_language         4803 non-null object\n",
      "original_title            4803 non-null object\n",
      "overview                  4800 non-null object\n",
      "popularity                4803 non-null float64\n",
      "production_companies      4803 non-null object\n",
      "production_countries      4803 non-null object\n",
      "release_date              4802 non-null object\n",
      "revenue                   4803 non-null int64\n",
      "runtime                   4801 non-null float64\n",
      "spoken_languages          4803 non-null object\n",
      "status                    4803 non-null object\n",
      "tagline                   3959 non-null object\n",
      "title_x                   4803 non-null object\n",
      "vote_average              4803 non-null float64\n",
      "vote_count                4803 non-null int64\n",
      "movie_id                  4803 non-null int64\n",
      "title_y                   4803 non-null object\n",
      "cast                      4803 non-null object\n",
      "crew                      4773 non-null object\n",
      "actor1_hashtags           4803 non-null int64\n",
      "actor2_hashtags           4803 non-null int64\n",
      "actor3_hashtags           4803 non-null int64\n",
      "director_hashtags         4803 non-null int64\n",
      "movie_hashtags            4803 non-null int64\n",
      "IMDB_ID                   4803 non-null object\n",
      "genres.1                  4803 non-null object\n",
      "production_companies.1    4803 non-null object\n",
      "budgets                   4800 non-null object\n",
      "gross_usa                 4437 non-null object\n",
      "dtypes: float64(3), int64(13), object(21)\n",
      "memory usage: 1.4+ MB\n"
     ]
    }
   ],
   "source": [
    "data.info()"
   ]
  },
  {
   "cell_type": "code",
   "execution_count": 67,
   "metadata": {
    "scrolled": false
   },
   "outputs": [
    {
     "name": "stdout",
     "output_type": "stream",
     "text": [
      "166225497.9559851\n",
      "296751465.28885233\n"
     ]
    }
   ],
   "source": [
    "def statistics_mean_std(data, item_list=[1, 2]):\n",
    "    '''\n",
    "    the position of the following statistics are [0, 1, 2, 3, 4, 5, 6, 7]\n",
    "    count, mean, std, min, 25%, 50%, 75%, max \n",
    "    '''\n",
    "    output = []\n",
    "    record = data.describe()\n",
    "    for each_item in item_list:\n",
    "        output.append(record[each_item])\n",
    "    return output\n",
    "\n",
    "avg, std = statistics_mean_std(filter_data_1['budgets'])\n",
    "# print(statistics_mean_std(data['budgets']))\n",
    "print(avg + 3 * std)\n",
    "\n",
    "avg, std = statistics_mean_std(filter_data_1['gross_usa'])\n",
    "print(avg + 3 * std)"
   ]
  },
  {
   "cell_type": "code",
   "execution_count": 68,
   "metadata": {
    "scrolled": true
   },
   "outputs": [],
   "source": [
    "def filter_operation_2(data, threshold, labels=['budgets', 'gross_usa']):\n",
    "    '''\n",
    "    filter the data with average + threshold * std\n",
    "    '''\n",
    "    output_data = data\n",
    "    for each_label in labels:\n",
    "        avg, std = statistics_mean_std(data[each_label])\n",
    "        boundary = avg + std * threshold\n",
    "        output_data = output_data[output_data[each_label] <= boundary]\n",
    "    \n",
    "    return output_data\n",
    "\n",
    "filter_data_2 = filter_operation_2(filter_data_1.copy(), 3)\n"
   ]
  },
  {
   "cell_type": "code",
   "execution_count": 73,
   "metadata": {
    "scrolled": false
   },
   "outputs": [
    {
     "name": "stdout",
     "output_type": "stream",
     "text": [
      "{'director_hashtags': 443812.27163350454, 'movie_hashtags': 18026577.874490555, 'actor1_hashtags': 3774622.803967894, 'actor3_hashtags': 6355893.462638536, 'actor2_hashtags': 2934441.3803638546}\n",
      "134831243.12654257\n",
      "199924911.7174828\n"
     ]
    }
   ],
   "source": [
    "## Get the statistics of AB - AF (actor1_hashtags, actor2_hashtags, actor3_hashtags, director_hashtags, movie_hashtags)\n",
    "candidate_labels = ['actor1_hashtags', 'actor2_hashtags', 'actor3_hashtags', 'director_hashtags', 'movie_hashtags']\n",
    "\n",
    "output = {}\n",
    "for each_label in candidate_labels:\n",
    "    avg, std = statistics_mean_std(filter_data_2[each_label])\n",
    "#     output[each_label] = [avg, std]\n",
    "    output[each_label] = avg + 3 * std\n",
    "\n",
    "print(output)\n",
    "\n",
    "avg, std = statistics_mean_std(filter_data_2['budgets'])\n",
    "# print(statistics_mean_std(data['budgets']))\n",
    "print(avg + 3 * std)\n",
    "\n",
    "avg, std = statistics_mean_std(filter_data_2['gross_usa'])\n",
    "print(avg + 3 * std)"
   ]
  },
  {
   "cell_type": "code",
   "execution_count": 74,
   "metadata": {},
   "outputs": [
    {
     "name": "stdout",
     "output_type": "stream",
     "text": [
      "{'director_hashtags': 184364.03222806207, 'movie_hashtags': 4945671.31175635, 'actor1_hashtags': 1199089.5904073408, 'actor3_hashtags': 808170.6934094004, 'actor2_hashtags': 794356.0146188609}\n",
      "134633568.58594722\n",
      "198835033.4998501\n"
     ]
    }
   ],
   "source": [
    "filter_data_3 = filter_operation_2(filter_data_2.copy(), 3, labels=candidate_labels)\n",
    "\n",
    "output = {}\n",
    "for each_label in candidate_labels:\n",
    "    avg, std = statistics_mean_std(filter_data_3[each_label])\n",
    "#     output[each_label] = [avg, std]\n",
    "    output[each_label] = avg + 3 * std\n",
    "\n",
    "print(output)\n",
    "\n",
    "avg, std = statistics_mean_std(filter_data_3['budgets'])\n",
    "# print(statistics_mean_std(data['budgets']))\n",
    "print(avg + 3 * std)\n",
    "\n",
    "avg, std = statistics_mean_std(filter_data_3['gross_usa'])\n",
    "print(avg + 3 * std)"
   ]
  },
  {
   "cell_type": "code",
   "execution_count": 75,
   "metadata": {},
   "outputs": [
    {
     "name": "stdout",
     "output_type": "stream",
     "text": [
      "{'gross_usa-budgets': 0.5915412418749759}\n",
      "[0.09714685508884563, 0.12008133971684323, 0.03968436253391814, 0.08870001671494913, 0.19398861693537006]\n",
      "0.229316480984445\n",
      "0.17891511148206696\n",
      "0.17880127654478603\n"
     ]
    }
   ],
   "source": [
    "def correlation(data, basic_label, candidate_labels):\n",
    "    '''\n",
    "    Calculate the .corr() between basic_label with each one of candidate_labels\n",
    "    '''\n",
    "    output = {}\n",
    "    for each_label in candidate_labels:\n",
    "        output[basic_label + '-' + each_label] = data[basic_label].corr(data[each_label])\n",
    "    return output\n",
    "\n",
    "basic_label = 'gross_usa'\n",
    "\n",
    "## To AJ -> budgets\n",
    "print(correlation(filter_data_3, basic_label, ['budgets']))\n",
    "\n",
    "## To AB - AF: candidate_labels\n",
    "print(list(correlation(filter_data_3, basic_label, candidate_labels).values()))\n",
    "\n",
    "## To AB + AC + AD:\n",
    "candidate_label_AB_AC_AD = ['actor1_hashtags', 'actor2_hashtags', 'actor3_hashtags']\n",
    "sum_AB_AC_AD = filter_data_3[candidate_label_AB_AC_AD].sum(axis=1) # column summation\n",
    "print(filter_data_3[basic_label].corr(sum_AB_AC_AD))\n",
    "\n",
    "## To max(AB, AC, AD):\n",
    "max_AB_AC_AD = filter_data_3[candidate_label_AB_AC_AD].max(axis=1) # column summation\n",
    "print(filter_data_3[basic_label].corr(max_AB_AC_AD))\n",
    "\n",
    "## To max(AB, AC, AD, AE):\n",
    "candidate_label_AB_AC_AD_AE = ['actor1_hashtags', 'actor2_hashtags', 'actor3_hashtags', 'director_hashtags']\n",
    "max_AB_AC_AD_AE = filter_data_3[candidate_label_AB_AC_AD_AE].max(axis=1) # column summation\n",
    "print(filter_data_3[basic_label].corr(max_AB_AC_AD_AE))\n",
    "\n"
   ]
  },
  {
   "cell_type": "code",
   "execution_count": null,
   "metadata": {},
   "outputs": [],
   "source": []
  }
 ],
 "metadata": {
  "kernelspec": {
   "display_name": "Python 3",
   "language": "python",
   "name": "python3"
  },
  "language_info": {
   "codemirror_mode": {
    "name": "ipython",
    "version": 3
   },
   "file_extension": ".py",
   "mimetype": "text/x-python",
   "name": "python",
   "nbconvert_exporter": "python",
   "pygments_lexer": "ipython3",
   "version": "3.5.2"
  }
 },
 "nbformat": 4,
 "nbformat_minor": 2
}
